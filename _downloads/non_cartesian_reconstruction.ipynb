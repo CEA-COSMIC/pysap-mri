{
  "cells": [
    {
      "cell_type": "code",
      "outputs": [],
      "metadata": {
        "collapsed": false
      },
      "execution_count": null,
      "source": [
        "%matplotlib inline"
      ]
    },
    {
      "cell_type": "markdown",
      "source": [
        "\nNeuroimaging non-cartesian reconstruction\n=========================================\n\nAuthor: Chaithya G R\n\nIn this tutorial we will reconstruct an MRI image from non-cartesian kspace\nmeasurements.\n\nImport neuroimaging data\n------------------------\n\nWe use the toy datasets available in pysap, more specifically a 2D brain slice\nand the acquisition cartesian scheme.\n\n"
      ],
      "metadata": {}
    },
    {
      "cell_type": "code",
      "outputs": [],
      "metadata": {
        "collapsed": false
      },
      "execution_count": null,
      "source": [
        "# Package import\nfrom mri.numerics.fourier import NFFT\nfrom mri.numerics.reconstruct import sparse_rec_fista\nfrom mri.numerics.utils import generate_operators\nfrom mri.numerics.utils import convert_locations_to_mask\nfrom mri.parallel_mri.extract_sensitivity_maps import \\\n    gridded_inverse_fourier_transform_nd\nimport pysap\nfrom pysap.data import get_sample_data\n\n# Third party import\nfrom modopt.math.metrics import ssim\nimport numpy as np\n\n# Loading input data\nimage = get_sample_data('2d-mri')\n\n# Obtain MRI non-cartesian mask\nradial_mask = get_sample_data(\"mri-radial-samples\")\nkspace_loc = radial_mask.data\nmask = pysap.Image(data=convert_locations_to_mask(kspace_loc, image.shape))\n\n# View Input\nimage.show()\nmask.show()"
      ]
    },
    {
      "cell_type": "markdown",
      "source": [
        "Generate the kspace\n-------------------\n\nFrom the 2D brain slice and the acquisition mask, we retrospectively\nundersample the k-space using a radial acquisition mask\nWe then reconstruct the zero order solution as a baseline\n\n"
      ],
      "metadata": {}
    },
    {
      "cell_type": "code",
      "outputs": [],
      "metadata": {
        "collapsed": false
      },
      "execution_count": null,
      "source": [
        "# Get the locations of the kspace samples and the associated observations\nfourier_op = NFFT(samples=kspace_loc, shape=image.shape)\nkspace_obs = fourier_op.op(image.data)\n\n# Gridded solution\ngrid_space = np.linspace(-0.5, 0.5, num=image.shape[0])\ngrid2D = np.meshgrid(grid_space, grid_space)\ngrid_soln = gridded_inverse_fourier_transform_nd(kspace_loc, kspace_obs,\n                                                 tuple(grid2D), 'linear')\nimage_rec0 = pysap.Image(data=grid_soln)\nimage_rec0.show()\nbase_ssim = ssim(image_rec0, image)\nprint('The Base SSIM is : ' + str(base_ssim))"
      ]
    },
    {
      "cell_type": "markdown",
      "source": [
        "FISTA optimization\n------------------\n\nWe now want to refine the zero order solution using a FISTA optimization.\nThe cost function is set to Proximity Cost + Gradient Cost\n\n"
      ],
      "metadata": {}
    },
    {
      "cell_type": "code",
      "outputs": [],
      "metadata": {
        "collapsed": false
      },
      "execution_count": null,
      "source": [
        "# Generate operators\ngradient_op, linear_op, prox_op, cost_op = generate_operators(\n    data=kspace_obs,\n    wavelet_name=24,\n    samples=kspace_loc,\n    mu=6 * 1e-7,\n    nb_scales=4,\n    non_cartesian=True,\n    uniform_data_shape=image.shape,\n    gradient_space=\"synthesis\")\n\n# Start the FISTA reconstruction\nmax_iter = 200\nx_final, costs, metrics = sparse_rec_fista(\n    gradient_op=gradient_op,\n    linear_op=linear_op,\n    prox_op=prox_op,\n    cost_op=cost_op,\n    lambda_init=1.0,\n    max_nb_of_iter=max_iter,\n    atol=1e-4,\n    verbose=1)\nimage_rec = pysap.Image(data=np.abs(x_final))\nimage_rec.show()\nrecon_ssim = ssim(image_rec, image)\nprint('The Reconstruction SSIM is : ' + str(recon_ssim))"
      ]
    }
  ],
  "metadata": {
    "language_info": {
      "file_extension": ".py",
      "pygments_lexer": "ipython3",
      "version": "3.5.2",
      "name": "python",
      "nbconvert_exporter": "python",
      "mimetype": "text/x-python",
      "codemirror_mode": {
        "version": 3,
        "name": "ipython"
      }
    },
    "kernelspec": {
      "display_name": "Python 3",
      "name": "python3",
      "language": "python"
    }
  },
  "nbformat": 4,
  "nbformat_minor": 0
}